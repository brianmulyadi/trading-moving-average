{
 "cells": [
  {
   "cell_type": "markdown",
   "id": "975dc612-268b-463a-8a62-13446bd3bd2b",
   "metadata": {},
   "source": [
    "# Final Project\n",
    "\n",
    "**Full Name:** Maria Veronica <br>\n",
    "**UNI**: mv2855\n",
    "\n",
    "Quantitative trading is a stock trading strategy that relies on mathematical models to identify trading opportunities.\n",
    "\n",
    "Some quantitative trading strategies involve choosing a particular stock and calculating the moving average of its price over a specific period of time (like 10 days, 20 minutes, 4 weeks, or any other period of time you choose). One simple strategy would be to go long (buy) a stock when it is trading below its moving average (assuming it is undervalued), and sell your stock when it is trading above its moving average (assuming it is overvalued). In short:\n",
    "\n",
    "- Price < Moving Average, security is undervalued, buy it.\n",
    "- Price > Moving Average, security is overvalued, sell it.\n",
    "\n",
    "Your task is to evaluate this trading strategy using Python.\n",
    "\n",
    "To start, pick any company from the S&P 500 and download the historical prices of its stock. Clean your data, run the strategy above, and calculate the return. Some guidance for how to do this:\n",
    "\n",
    "- Create a column with the moving average and check for each row if the price is higher/lower than the moving average. You can create a new “theoretical” security that is the result of your trading strategy — i.e. it has the return of the security when you were long, and zero otherwise.\n",
    "- Use Pandas’ cumprod() function to return the cumulative product of a column. This will help you calculate the cumulative return over time.\n"
   ]
  },
  {
   "cell_type": "markdown",
   "id": "110d796a-bc86-4202-950f-fad480f561ee",
   "metadata": {},
   "source": [
    "## 1. Importing dependencies and declaring variables"
   ]
  },
  {
   "cell_type": "code",
   "execution_count": 975,
   "id": "d079258f-afe9-4ea6-b62a-d2797778f160",
   "metadata": {},
   "outputs": [],
   "source": [
    "import pandas as pd\n",
    "import seaborn as sns\n",
    "import matplotlib.pyplot as plt\n",
    "import numpy as np\n",
    "# import matplotlib.dates as mdates\n",
    "# from matplotlib.dates import DateFormatter\n",
    "from alpha_vantage.timeseries import TimeSeries"
   ]
  },
  {
   "cell_type": "code",
   "execution_count": 976,
   "id": "3552d6ec-2c68-41fd-8cc7-95ada29648e1",
   "metadata": {},
   "outputs": [],
   "source": [
    "# accessing with api key\n",
    "with open('alphavantage_api_key.txt') as file:\n",
    "    alphavantage_api_key = file.read()"
   ]
  },
  {
   "cell_type": "markdown",
   "id": "fe542761-7355-4a69-a2e1-d4d8db4a265a",
   "metadata": {},
   "source": [
    "### 📌 &nbsp; Change variables here:"
   ]
  },
  {
   "cell_type": "code",
   "execution_count": 977,
   "id": "7fc5440d-4dab-485b-9f12-dc4b0f288730",
   "metadata": {},
   "outputs": [],
   "source": [
    "# list of variables\n",
    "stock_name = 'HOOD'\n",
    "ma_period = 30 # moving average period in days"
   ]
  },
  {
   "cell_type": "code",
   "execution_count": 978,
   "id": "d067d345-a2ef-4255-b02d-3a25fc23eeac",
   "metadata": {},
   "outputs": [],
   "source": [
    "# using get_daily_adjusted function from the Aplha Vantage API to extract historical daily prices and put it into a data frame\n",
    "ts = TimeSeries(key=alphavantage_api_key, output_format='pandas')\n",
    "df, meta_data = ts.get_daily_adjusted(stock_name, outputsize='full')"
   ]
  },
  {
   "cell_type": "code",
   "execution_count": 979,
   "id": "54887644-55e9-4abf-a579-53a877d0daaf",
   "metadata": {},
   "outputs": [
    {
     "data": {
      "text/html": [
       "<div>\n",
       "<style scoped>\n",
       "    .dataframe tbody tr th:only-of-type {\n",
       "        vertical-align: middle;\n",
       "    }\n",
       "\n",
       "    .dataframe tbody tr th {\n",
       "        vertical-align: top;\n",
       "    }\n",
       "\n",
       "    .dataframe thead th {\n",
       "        text-align: right;\n",
       "    }\n",
       "</style>\n",
       "<table border=\"1\" class=\"dataframe\">\n",
       "  <thead>\n",
       "    <tr style=\"text-align: right;\">\n",
       "      <th></th>\n",
       "      <th>1. open</th>\n",
       "      <th>2. high</th>\n",
       "      <th>3. low</th>\n",
       "      <th>4. close</th>\n",
       "      <th>5. adjusted close</th>\n",
       "      <th>6. volume</th>\n",
       "      <th>7. dividend amount</th>\n",
       "      <th>8. split coefficient</th>\n",
       "    </tr>\n",
       "    <tr>\n",
       "      <th>date</th>\n",
       "      <th></th>\n",
       "      <th></th>\n",
       "      <th></th>\n",
       "      <th></th>\n",
       "      <th></th>\n",
       "      <th></th>\n",
       "      <th></th>\n",
       "      <th></th>\n",
       "    </tr>\n",
       "  </thead>\n",
       "  <tbody>\n",
       "    <tr>\n",
       "      <th>2021-10-20</th>\n",
       "      <td>41.8933</td>\n",
       "      <td>42.44</td>\n",
       "      <td>41.0200</td>\n",
       "      <td>41.83</td>\n",
       "      <td>41.83</td>\n",
       "      <td>4039543.0</td>\n",
       "      <td>0.0</td>\n",
       "      <td>1.0</td>\n",
       "    </tr>\n",
       "    <tr>\n",
       "      <th>2021-10-19</th>\n",
       "      <td>40.9100</td>\n",
       "      <td>41.80</td>\n",
       "      <td>40.5400</td>\n",
       "      <td>41.70</td>\n",
       "      <td>41.70</td>\n",
       "      <td>4529214.0</td>\n",
       "      <td>0.0</td>\n",
       "      <td>1.0</td>\n",
       "    </tr>\n",
       "    <tr>\n",
       "      <th>2021-10-18</th>\n",
       "      <td>40.9500</td>\n",
       "      <td>41.25</td>\n",
       "      <td>40.3100</td>\n",
       "      <td>40.65</td>\n",
       "      <td>40.65</td>\n",
       "      <td>4019789.0</td>\n",
       "      <td>0.0</td>\n",
       "      <td>1.0</td>\n",
       "    </tr>\n",
       "    <tr>\n",
       "      <th>2021-10-15</th>\n",
       "      <td>41.6410</td>\n",
       "      <td>41.70</td>\n",
       "      <td>40.8601</td>\n",
       "      <td>41.03</td>\n",
       "      <td>41.03</td>\n",
       "      <td>2579553.0</td>\n",
       "      <td>0.0</td>\n",
       "      <td>1.0</td>\n",
       "    </tr>\n",
       "    <tr>\n",
       "      <th>2021-10-14</th>\n",
       "      <td>40.5900</td>\n",
       "      <td>41.79</td>\n",
       "      <td>40.5500</td>\n",
       "      <td>40.93</td>\n",
       "      <td>40.93</td>\n",
       "      <td>3827495.0</td>\n",
       "      <td>0.0</td>\n",
       "      <td>1.0</td>\n",
       "    </tr>\n",
       "  </tbody>\n",
       "</table>\n",
       "</div>"
      ],
      "text/plain": [
       "            1. open  2. high   3. low  4. close  5. adjusted close  6. volume  \\\n",
       "date                                                                            \n",
       "2021-10-20  41.8933    42.44  41.0200     41.83              41.83  4039543.0   \n",
       "2021-10-19  40.9100    41.80  40.5400     41.70              41.70  4529214.0   \n",
       "2021-10-18  40.9500    41.25  40.3100     40.65              40.65  4019789.0   \n",
       "2021-10-15  41.6410    41.70  40.8601     41.03              41.03  2579553.0   \n",
       "2021-10-14  40.5900    41.79  40.5500     40.93              40.93  3827495.0   \n",
       "\n",
       "            7. dividend amount  8. split coefficient  \n",
       "date                                                  \n",
       "2021-10-20                 0.0                   1.0  \n",
       "2021-10-19                 0.0                   1.0  \n",
       "2021-10-18                 0.0                   1.0  \n",
       "2021-10-15                 0.0                   1.0  \n",
       "2021-10-14                 0.0                   1.0  "
      ]
     },
     "execution_count": 979,
     "metadata": {},
     "output_type": "execute_result"
    }
   ],
   "source": [
    "# snapshot of df\n",
    "df.head()"
   ]
  },
  {
   "cell_type": "code",
   "execution_count": 980,
   "id": "1fa2a08d-0e95-4c5c-8937-5ddb60b7c126",
   "metadata": {},
   "outputs": [
    {
     "data": {
      "text/plain": [
       "{'1. Information': 'Daily Time Series with Splits and Dividend Events',\n",
       " '2. Symbol': 'HOOD',\n",
       " '3. Last Refreshed': '2021-10-20',\n",
       " '4. Output Size': 'Full size',\n",
       " '5. Time Zone': 'US/Eastern'}"
      ]
     },
     "execution_count": 980,
     "metadata": {},
     "output_type": "execute_result"
    }
   ],
   "source": [
    "# meta data of df\n",
    "meta_data"
   ]
  },
  {
   "cell_type": "markdown",
   "id": "758e8b59-1eb3-411c-8b91-36a1cf4345a5",
   "metadata": {},
   "source": [
    "## 2. Cleaning up the data frame to give the daily *adjusted close price* of the stock"
   ]
  },
  {
   "cell_type": "code",
   "execution_count": 981,
   "id": "06db4329-7a09-43d2-affb-5260f6c28cd7",
   "metadata": {},
   "outputs": [],
   "source": [
    "# sorting the data chronologically\n",
    "df.sort_values('date', inplace=True)\n",
    "\n",
    "# dropping non-essential columns\n",
    "df.drop(columns=['1. open', '2. high', '3. low', '4. close', '6. volume', '7. dividend amount', '8. split coefficient'], inplace=True)\n",
    "\n",
    "# renaming column to \"close\"\n",
    "df.rename(columns={'5. adjusted close':'close'}, inplace=True)"
   ]
  },
  {
   "cell_type": "code",
   "execution_count": 982,
   "id": "c017eba4-b2fc-409a-8b25-e69428fd20ff",
   "metadata": {},
   "outputs": [
    {
     "data": {
      "text/html": [
       "<div>\n",
       "<style scoped>\n",
       "    .dataframe tbody tr th:only-of-type {\n",
       "        vertical-align: middle;\n",
       "    }\n",
       "\n",
       "    .dataframe tbody tr th {\n",
       "        vertical-align: top;\n",
       "    }\n",
       "\n",
       "    .dataframe thead th {\n",
       "        text-align: right;\n",
       "    }\n",
       "</style>\n",
       "<table border=\"1\" class=\"dataframe\">\n",
       "  <thead>\n",
       "    <tr style=\"text-align: right;\">\n",
       "      <th></th>\n",
       "      <th>close</th>\n",
       "    </tr>\n",
       "    <tr>\n",
       "      <th>date</th>\n",
       "      <th></th>\n",
       "    </tr>\n",
       "  </thead>\n",
       "  <tbody>\n",
       "    <tr>\n",
       "      <th>2021-07-29</th>\n",
       "      <td>34.82</td>\n",
       "    </tr>\n",
       "    <tr>\n",
       "      <th>2021-07-30</th>\n",
       "      <td>35.15</td>\n",
       "    </tr>\n",
       "    <tr>\n",
       "      <th>2021-08-02</th>\n",
       "      <td>37.68</td>\n",
       "    </tr>\n",
       "    <tr>\n",
       "      <th>2021-08-03</th>\n",
       "      <td>46.80</td>\n",
       "    </tr>\n",
       "    <tr>\n",
       "      <th>2021-08-04</th>\n",
       "      <td>70.39</td>\n",
       "    </tr>\n",
       "  </tbody>\n",
       "</table>\n",
       "</div>"
      ],
      "text/plain": [
       "            close\n",
       "date             \n",
       "2021-07-29  34.82\n",
       "2021-07-30  35.15\n",
       "2021-08-02  37.68\n",
       "2021-08-03  46.80\n",
       "2021-08-04  70.39"
      ]
     },
     "execution_count": 982,
     "metadata": {},
     "output_type": "execute_result"
    }
   ],
   "source": [
    "# snapshot of clean df\n",
    "df.head()"
   ]
  },
  {
   "cell_type": "code",
   "execution_count": 983,
   "id": "44c56898-c954-4900-98d8-847d503c622f",
   "metadata": {},
   "outputs": [
    {
     "data": {
      "text/plain": [
       "<AxesSubplot:xlabel='date'>"
      ]
     },
     "execution_count": 983,
     "metadata": {},
     "output_type": "execute_result"
    },
    {
     "data": {
      "image/png": "[encoded data removed]",
      "text/plain": [
       "<Figure size 1080x576 with 1 Axes>"
      ]
     },
     "metadata": {
      "needs_background": "light"
     },
     "output_type": "display_data"
    }
   ],
   "source": [
    "# quick plot of clean df\n",
    "df.plot(figsize=(15,8))"
   ]
  },
  {
   "cell_type": "markdown",
   "id": "a3d7ad9f-d4ee-4dbd-a357-1b6d7194e59f",
   "metadata": {},
   "source": [
    "## 3. Create a moving average column with the variable `ma_period` declared on step 1"
   ]
  },
  {
   "cell_type": "code",
   "execution_count": 984,
   "id": "cdec2dfe-83c0-4dc6-b09a-d6ae73a32f82",
   "metadata": {},
   "outputs": [],
   "source": [
    "# create moving average column based on the period selected\n",
    "df['moving_avg'] = df['close'].rolling(ma_period).mean()\n",
    "\n",
    "# filtering only data for the period of trading, in this case starting from 2019 onwards\n",
    "df_trade = df.loc['2019':, ['close', 'moving_avg']]"
   ]
  },
  {
   "cell_type": "code",
   "execution_count": 985,
   "id": "95e4a75f-64e7-4f2c-b222-730b639b0d34",
   "metadata": {},
   "outputs": [
    {
     "data": {
      "text/plain": [
       "<AxesSubplot:xlabel='date'>"
      ]
     },
     "execution_count": 985,
     "metadata": {},
     "output_type": "execute_result"
    },
    {
     "data": {
      "image/png": "[encoded data removed]",
      "text/plain": [
       "<Figure size 1080x576 with 1 Axes>"
      ]
     },
     "metadata": {
      "needs_background": "light"
     },
     "output_type": "display_data"
    }
   ],
   "source": [
    "# quick plot of the two curves\n",
    "df_trade.plot(figsize=(15,8))"
   ]
  },
  {
   "cell_type": "markdown",
   "id": "ed529f78-ccda-4cd3-824d-abb837c0334c",
   "metadata": {},
   "source": [
    "## 4. Create the buy and sell signal to perform the trade"
   ]
  },
  {
   "cell_type": "markdown",
   "id": "d8601435-948b-4a85-9e2f-33fed88c3e06",
   "metadata": {},
   "source": [
    "The moving average trading strategy will be programmed as follow:\n",
    "- On the day that price moves **above** moving average, `BUY` the stock and `HOLD` the position\n",
    "- On the day that price moves **below** moving average, `SELL` the previously bought stock"
   ]
  },
  {
   "cell_type": "code",
   "execution_count": 986,
   "id": "4e8b85ca-e11b-45f1-bcf3-00a1afc4395a",
   "metadata": {},
   "outputs": [
    {
     "data": {
      "text/html": [
       "<div>\n",
       "<style scoped>\n",
       "    .dataframe tbody tr th:only-of-type {\n",
       "        vertical-align: middle;\n",
       "    }\n",
       "\n",
       "    .dataframe tbody tr th {\n",
       "        vertical-align: top;\n",
       "    }\n",
       "\n",
       "    .dataframe thead th {\n",
       "        text-align: right;\n",
       "    }\n",
       "</style>\n",
       "<table border=\"1\" class=\"dataframe\">\n",
       "  <thead>\n",
       "    <tr style=\"text-align: right;\">\n",
       "      <th></th>\n",
       "      <th>close</th>\n",
       "      <th>moving_avg</th>\n",
       "      <th>action</th>\n",
       "    </tr>\n",
       "    <tr>\n",
       "      <th>date</th>\n",
       "      <th></th>\n",
       "      <th></th>\n",
       "      <th></th>\n",
       "    </tr>\n",
       "  </thead>\n",
       "  <tbody>\n",
       "    <tr>\n",
       "      <th>2021-10-07</th>\n",
       "      <td>41.84</td>\n",
       "      <td>42.986667</td>\n",
       "      <td></td>\n",
       "    </tr>\n",
       "    <tr>\n",
       "      <th>2021-10-08</th>\n",
       "      <td>41.78</td>\n",
       "      <td>42.817333</td>\n",
       "      <td></td>\n",
       "    </tr>\n",
       "    <tr>\n",
       "      <th>2021-10-11</th>\n",
       "      <td>42.07</td>\n",
       "      <td>42.657333</td>\n",
       "      <td></td>\n",
       "    </tr>\n",
       "    <tr>\n",
       "      <th>2021-10-12</th>\n",
       "      <td>40.53</td>\n",
       "      <td>42.553667</td>\n",
       "      <td></td>\n",
       "    </tr>\n",
       "    <tr>\n",
       "      <th>2021-10-13</th>\n",
       "      <td>40.52</td>\n",
       "      <td>42.427000</td>\n",
       "      <td></td>\n",
       "    </tr>\n",
       "    <tr>\n",
       "      <th>2021-10-14</th>\n",
       "      <td>40.93</td>\n",
       "      <td>42.305667</td>\n",
       "      <td></td>\n",
       "    </tr>\n",
       "    <tr>\n",
       "      <th>2021-10-15</th>\n",
       "      <td>41.03</td>\n",
       "      <td>42.190333</td>\n",
       "      <td></td>\n",
       "    </tr>\n",
       "    <tr>\n",
       "      <th>2021-10-18</th>\n",
       "      <td>40.65</td>\n",
       "      <td>42.100333</td>\n",
       "      <td></td>\n",
       "    </tr>\n",
       "    <tr>\n",
       "      <th>2021-10-19</th>\n",
       "      <td>41.70</td>\n",
       "      <td>42.086000</td>\n",
       "      <td></td>\n",
       "    </tr>\n",
       "    <tr>\n",
       "      <th>2021-10-20</th>\n",
       "      <td>41.83</td>\n",
       "      <td>42.145333</td>\n",
       "      <td></td>\n",
       "    </tr>\n",
       "  </tbody>\n",
       "</table>\n",
       "</div>"
      ],
      "text/plain": [
       "            close  moving_avg action\n",
       "date                                \n",
       "2021-10-07  41.84   42.986667       \n",
       "2021-10-08  41.78   42.817333       \n",
       "2021-10-11  42.07   42.657333       \n",
       "2021-10-12  40.53   42.553667       \n",
       "2021-10-13  40.52   42.427000       \n",
       "2021-10-14  40.93   42.305667       \n",
       "2021-10-15  41.03   42.190333       \n",
       "2021-10-18  40.65   42.100333       \n",
       "2021-10-19  41.70   42.086000       \n",
       "2021-10-20  41.83   42.145333       "
      ]
     },
     "execution_count": 986,
     "metadata": {},
     "output_type": "execute_result"
    }
   ],
   "source": [
    "# create new column to indicate buy and sell action\n",
    "df_trade['action'] = ''\n",
    "\n",
    "# place the iloc indexes of each column to variables for easier reference\n",
    "close_col_index = df_trade.columns.get_loc('close')\n",
    "moving_avg_col_index = df_trade.columns.get_loc('moving_avg')\n",
    "action_col_index = df_trade.columns.get_loc('action')\n",
    "\n",
    "# this function checks if the close price < moving avg price on (day-1) AND the close price > moving avg price today, THEN we should BUY the stock\n",
    "# respectively if the close price > moving avg price on (day-1) AND the close price < moving avg price today, THEN we should SELL the stock\n",
    "for i in range(1, len(df_trade)):\n",
    "    if (df_trade.iloc[i-1,close_col_index] < df_trade.iloc[i-1,moving_avg_col_index]) & (df_trade.iloc[i,close_col_index] > df_trade.iloc[i,moving_avg_col_index]):\n",
    "        df_trade.iloc[i,action_col_index] = 'Buy'\n",
    "    elif (df_trade.iloc[i-1,close_col_index] > df_trade.iloc[i-1,moving_avg_col_index]) & (df_trade.iloc[i,close_col_index] < df_trade.iloc[i,moving_avg_col_index]):\n",
    "        df_trade.iloc[i,action_col_index] = 'Sell'\n",
    "    else:\n",
    "        df_trade.iloc[i,action_col_index] = ''\n",
    "\n",
    "# actions are allocated on the trade days\n",
    "df_trade.tail(10)\n"
   ]
  },
  {
   "cell_type": "markdown",
   "id": "b86e6474-45e1-4966-89e7-161d9bce9c5a",
   "metadata": {},
   "source": [
    "### ⚠️ &nbsp; Handling exceptions\n",
    "\n",
    "In order to make sure that every trade has both BUY and SELL actions, these adjustments need to be done:\n",
    "1. If the **start price of the period is already above the moving average**, it can be assumed that the stock needs to be bought on the first day\n",
    "2. If the **end price of the period is still below the moving average** (position is still held at the end of period), it can be assumed that the stock need to be sold (unwound) at the last day of the period"
   ]
  },
  {
   "cell_type": "code",
   "execution_count": 987,
   "id": "ee072d9d-02dc-429f-9aa2-7fd765321a34",
   "metadata": {},
   "outputs": [
    {
     "name": "stdout",
     "output_type": "stream",
     "text": [
      "First occurence of BUY order: 2021-09-22 00:00:00\n",
      "First occurence of SELL order: 2021-09-29 00:00:00\n",
      "No change\n",
      "----------\n",
      "Last occurence of BUY order: 2021-09-22 00:00:00\n",
      "Last occurence of SELL order: 2021-09-29 00:00:00\n",
      "No change\n",
      "----------\n"
     ]
    }
   ],
   "source": [
    "# printing the first instances of the BUY and SELL actions\n",
    "print(f\"First occurence of BUY order: {df_trade['action'].eq('Buy').idxmax()}\")\n",
    "print(f\"First occurence of SELL order: {df_trade['action'].eq('Sell').idxmax()}\")\n",
    "\n",
    "# set first row as 'Buy' if the start price of the period is already above the moving average price\n",
    "if df_trade['action'].eq('Buy').idxmax() > df_trade['action'].eq('Sell').idxmax():\n",
    "    df_trade.iloc[0,action_col_index] = 'Buy'\n",
    "    print(\"First row set to BUY\")\n",
    "else:\n",
    "    df_trade.iloc[0,action_col_index] = df_trade.iloc[0,action_col_index]\n",
    "    print(\"No change\")\n",
    "\n",
    "print(\"-\"*10)\n",
    "\n",
    "# printing the last instances of the BUY and SELL actions\n",
    "print(f\"Last occurence of BUY order: {df_trade['action'].where(df_trade['action'] == 'Buy').last_valid_index()}\")\n",
    "print(f\"Last occurence of SELL order: {df_trade['action'].where(df_trade['action'] == 'Sell').last_valid_index()}\")\n",
    "\n",
    "# set last row as 'Sell' if the end price of the period is still above the moving average price\n",
    "if df_trade['action'].where(df_trade['action'] == 'Buy').last_valid_index() > df_trade['action'].where(df_trade['action'] == 'Sell').last_valid_index():\n",
    "    df_trade.iloc[len(df_trade)-1,action_col_index] = 'Sell'\n",
    "    print(\"Last row set to SELL\")\n",
    "else:\n",
    "    df_trade.iloc[len(df_trade)-1,action_col_index] = df_trade.iloc[len(df_trade)-1,action_col_index]\n",
    "    print(\"No change\")\n",
    "    \n",
    "print(\"-\"*10)\n"
   ]
  },
  {
   "cell_type": "code",
   "execution_count": 988,
   "id": "d72f6f40-1cb6-4dbe-b07e-e33ac1467355",
   "metadata": {},
   "outputs": [
    {
     "data": {
      "text/html": [
       "<div>\n",
       "<style scoped>\n",
       "    .dataframe tbody tr th:only-of-type {\n",
       "        vertical-align: middle;\n",
       "    }\n",
       "\n",
       "    .dataframe tbody tr th {\n",
       "        vertical-align: top;\n",
       "    }\n",
       "\n",
       "    .dataframe thead th {\n",
       "        text-align: right;\n",
       "    }\n",
       "</style>\n",
       "<table border=\"1\" class=\"dataframe\">\n",
       "  <thead>\n",
       "    <tr style=\"text-align: right;\">\n",
       "      <th></th>\n",
       "      <th>close</th>\n",
       "      <th>action</th>\n",
       "    </tr>\n",
       "    <tr>\n",
       "      <th>date</th>\n",
       "      <th></th>\n",
       "      <th></th>\n",
       "    </tr>\n",
       "  </thead>\n",
       "  <tbody>\n",
       "    <tr>\n",
       "      <th>2021-09-22</th>\n",
       "      <td>46.88</td>\n",
       "      <td>Buy</td>\n",
       "    </tr>\n",
       "    <tr>\n",
       "      <th>2021-09-29</th>\n",
       "      <td>43.13</td>\n",
       "      <td>Sell</td>\n",
       "    </tr>\n",
       "  </tbody>\n",
       "</table>\n",
       "</div>"
      ],
      "text/plain": [
       "            close action\n",
       "date                    \n",
       "2021-09-22  46.88    Buy\n",
       "2021-09-29  43.13   Sell"
      ]
     },
     "execution_count": 988,
     "metadata": {},
     "output_type": "execute_result"
    }
   ],
   "source": [
    "# filtering only days with actions\n",
    "df_action = df_trade.loc[df_trade['action'] != '', ['close', 'action']]\n",
    "df_action.tail(10)"
   ]
  },
  {
   "cell_type": "markdown",
   "id": "ffd7e983-2f62-4545-a211-f2d994f8735e",
   "metadata": {},
   "source": [
    "## 5. Calculate cumulative PNL of the trading activities"
   ]
  },
  {
   "cell_type": "code",
   "execution_count": 989,
   "id": "670e137a-dd97-46ce-af91-865b2595508d",
   "metadata": {},
   "outputs": [
    {
     "data": {
      "text/html": [
       "<div>\n",
       "<style scoped>\n",
       "    .dataframe tbody tr th:only-of-type {\n",
       "        vertical-align: middle;\n",
       "    }\n",
       "\n",
       "    .dataframe tbody tr th {\n",
       "        vertical-align: top;\n",
       "    }\n",
       "\n",
       "    .dataframe thead th {\n",
       "        text-align: right;\n",
       "    }\n",
       "</style>\n",
       "<table border=\"1\" class=\"dataframe\">\n",
       "  <thead>\n",
       "    <tr style=\"text-align: right;\">\n",
       "      <th></th>\n",
       "      <th>buy_px</th>\n",
       "      <th>sell_px</th>\n",
       "      <th>sold_date</th>\n",
       "      <th>pnl</th>\n",
       "      <th>return_pct</th>\n",
       "      <th>sell_over_buy</th>\n",
       "      <th>cumulative_return</th>\n",
       "    </tr>\n",
       "    <tr>\n",
       "      <th>date</th>\n",
       "      <th></th>\n",
       "      <th></th>\n",
       "      <th></th>\n",
       "      <th></th>\n",
       "      <th></th>\n",
       "      <th></th>\n",
       "      <th></th>\n",
       "    </tr>\n",
       "  </thead>\n",
       "  <tbody>\n",
       "    <tr>\n",
       "      <th>2021-09-22</th>\n",
       "      <td>46.88</td>\n",
       "      <td>43.13</td>\n",
       "      <td>2021-09-29</td>\n",
       "      <td>-3.75</td>\n",
       "      <td>-7.999147</td>\n",
       "      <td>0.920009</td>\n",
       "      <td>-7.999147</td>\n",
       "    </tr>\n",
       "  </tbody>\n",
       "</table>\n",
       "</div>"
      ],
      "text/plain": [
       "            buy_px  sell_px  sold_date   pnl  return_pct  sell_over_buy  \\\n",
       "date                                                                      \n",
       "2021-09-22   46.88    43.13 2021-09-29 -3.75   -7.999147       0.920009   \n",
       "\n",
       "            cumulative_return  \n",
       "date                           \n",
       "2021-09-22          -7.999147  "
      ]
     },
     "execution_count": 989,
     "metadata": {},
     "output_type": "execute_result"
    }
   ],
   "source": [
    "# create a new data frame to summarize trades in a row format\n",
    "df_pnl = df_action.loc[df_action['action'] == 'Buy', ['close']]\n",
    "\n",
    "# rename column to buy_px\n",
    "df_pnl.rename(columns={'close':'buy_px'}, inplace=True)\n",
    "\n",
    "# insert a new column from a list of the SELL prices\n",
    "df_pnl['sell_px'] = df_action.loc[df_action['action'] == 'Sell', ['close']]['close'].tolist()\n",
    "\n",
    "# insert a new column for the trade dates of the SELL actions\n",
    "df_pnl['sold_date'] = df_action.loc[df_action['action'] == 'Sell', ['close']].index.tolist()\n",
    "\n",
    "# create column that shows the difference in SELL price and BUY price\n",
    "df_pnl['pnl'] = df_pnl['sell_px'] - df_pnl['buy_px']\n",
    "\n",
    "# convert that into percentage to get return per trade\n",
    "df_pnl['return_pct'] = 100*df_pnl['pnl']/df_pnl['buy_px']\n",
    "\n",
    "# calculate cumulative return (in %) using cumprod() function\n",
    "df_pnl['sell_over_buy'] = df_pnl['sell_px']/df_pnl['buy_px']\n",
    "df_pnl['cumulative_return'] = (df_pnl['sell_over_buy'].cumprod()-1)*100 # in percentage\n",
    "\n",
    "df_pnl"
   ]
  },
  {
   "cell_type": "code",
   "execution_count": 990,
   "id": "5894958b-580d-4dda-aded-cfe2bfa17b83",
   "metadata": {},
   "outputs": [
    {
     "name": "stdout",
     "output_type": "stream",
     "text": [
      "Total number of trades: 1\n"
     ]
    }
   ],
   "source": [
    "print(f\"Total number of trades: {len(df_pnl)}\")"
   ]
  },
  {
   "cell_type": "markdown",
   "id": "285fa5f2-d852-490a-9b98-54fd672698a8",
   "metadata": {},
   "source": [
    "# 6. Final results"
   ]
  },
  {
   "cell_type": "code",
   "execution_count": 991,
   "id": "7ad4389c-2780-417f-ba05-96b3a1648f56",
   "metadata": {},
   "outputs": [
    {
     "name": "stdout",
     "output_type": "stream",
     "text": [
      "----------\n",
      "Average stock price BOUGHT: $46.88\n",
      "Average stock price SOLD: $43.13\n",
      "----------\n",
      "Total cumulative return: -8.00%\n"
     ]
    }
   ],
   "source": [
    "print(\"-\"*10)\n",
    "print(f\"Average stock price BOUGHT: ${df_pnl['buy_px'].mean():.2f}\")\n",
    "print(f\"Average stock price SOLD: ${df_pnl['sell_px'].mean():.2f}\")\n",
    "print(\"-\"*10)\n",
    "print(f\"Total cumulative return: {(df_pnl['cumulative_return'][len(df_pnl)-1]):.2f}%\")\n"
   ]
  },
  {
   "cell_type": "code",
   "execution_count": 992,
   "id": "7587b777-add3-4fe3-840a-b143b2a14d25",
   "metadata": {},
   "outputs": [
    {
     "data": {
      "image/png": "[encoded data removed]",
      "text/plain": [
       "<Figure size 1080x576 with 1 Axes>"
      ]
     },
     "metadata": {
      "needs_background": "light"
     },
     "output_type": "display_data"
    }
   ],
   "source": [
    "# Using matplotlib to chart the percentage return of each trade\n",
    "ax = df_pnl['return_pct'].plot(kind='bar', figsize=(15, 8), color=(df_pnl['return_pct'] > 0).map({True: '#63B262', False: '#D74A4B'}))\n",
    "ax.set_xticklabels([x.strftime(\"%m/%d/%y\") for x in df_pnl.index], rotation=45)\n",
    "ax.set_ylabel('Return percentage (%)', fontsize=18)\n",
    "ax.set_xlabel('BUY - trade dates', fontsize=18, labelpad=20)\n",
    "ax.set_title('Return percentage by trade', fontsize=20, pad=20)\n",
    "\n",
    "plt.show()"
   ]
  },
  {
   "cell_type": "code",
   "execution_count": 993,
   "id": "43de5880-56c9-4b64-bfd6-0bdc61eccacb",
   "metadata": {},
   "outputs": [
    {
     "data": {
      "image/png": "[encoded data removed]",
      "text/plain": [
       "<Figure size 1080x576 with 1 Axes>"
      ]
     },
     "metadata": {
      "needs_background": "light"
     },
     "output_type": "display_data"
    }
   ],
   "source": [
    "# Charting the cumulative return\n",
    "ax = df_pnl['cumulative_return'].plot(figsize=(15,8))\n",
    "ax.axhline(y=0, color='#D74A4B', linestyle='--')\n",
    "ax.set_ylabel('Return percentage (%)', fontsize=18)\n",
    "ax.set_xlabel('')\n",
    "ax.set_title('Cumulative PNL Return', fontsize=20, pad=20)\n",
    "\n",
    "plt.show()"
   ]
  },
  {
   "cell_type": "markdown",
   "id": "22a734d0-b0aa-4e1f-a2b0-eac691d52ddb",
   "metadata": {},
   "source": [
    "# 7. Alternative strategy (two moving averages)\n",
    "\n",
    "Another strategy is to apply two moving averages to a chart: one longer and one shorter. When the shorter-term MA crosses above the longer-term MA, it's a `BUY` signal, as it indicates that the trend is shifting up. This is known as a **\"golden cross.\"**\n",
    "\n",
    "Meanwhile, when the shorter-term MA crosses below the longer-term MA, it's a `SELL` signal, as it indicates that the trend is shifting down. This is known as a **\"dead/death cross.\"**"
   ]
  },
  {
   "cell_type": "code",
   "execution_count": 994,
   "id": "d1a1251f-6451-464f-9cf3-595508a8c8f5",
   "metadata": {},
   "outputs": [],
   "source": [
    "# declare new variable for the longer moving average period\n",
    "ma_period_long = 60 # period in days"
   ]
  },
  {
   "cell_type": "code",
   "execution_count": 995,
   "id": "1aa37e5f-60ed-4c9d-9670-6b3aef1db6b7",
   "metadata": {},
   "outputs": [],
   "source": [
    "# create moving average column based on the period selected\n",
    "df['moving_avg_long'] = df['close'].rolling(ma_period_long).mean()\n",
    "\n",
    "# filtering only data for the period of trading, in this case starting from 2019 onwards\n",
    "df2 = df.loc['2019':, ['close', 'moving_avg', 'moving_avg_long']]"
   ]
  },
  {
   "cell_type": "code",
   "execution_count": 996,
   "id": "bb3acbb2-8faa-446c-ab13-881269a81ef1",
   "metadata": {},
   "outputs": [
    {
     "data": {
      "text/plain": [
       "<AxesSubplot:xlabel='date'>"
      ]
     },
     "execution_count": 996,
     "metadata": {},
     "output_type": "execute_result"
    },
    {
     "data": {
      "image/png": "[encoded data removed]",
      "text/plain": [
       "<Figure size 1080x720 with 1 Axes>"
      ]
     },
     "metadata": {
      "needs_background": "light"
     },
     "output_type": "display_data"
    }
   ],
   "source": [
    "df2.plot(figsize=(15,10))"
   ]
  },
  {
   "cell_type": "markdown",
   "id": "0f4c4f98-1e80-40de-bf66-fcfd2eed91e6",
   "metadata": {},
   "source": [
    "### Replicating step 4 to the new strategy"
   ]
  },
  {
   "cell_type": "code",
   "execution_count": 997,
   "id": "7e7bfe64-4420-4f7a-a820-b011eea2e6db",
   "metadata": {},
   "outputs": [],
   "source": [
    "# create new column to indicate buy and sell action\n",
    "df2['action'] = ''\n",
    "\n",
    "# place the iloc indexes of each column to variables for easier reference\n",
    "moving_avg_col_index = df2.columns.get_loc('moving_avg')\n",
    "moving_avg_long_col_index = df2.columns.get_loc('moving_avg_long')\n",
    "action_col_index = df2.columns.get_loc('action')\n",
    "\n",
    "# same logic as the previous strategy but now close price is replaced with the shorter term moving average\n",
    "for i in range(1, len(df2)):\n",
    "    if (df2.iloc[i-1,moving_avg_col_index] < df2.iloc[i-1,moving_avg_long_col_index]) & (df2.iloc[i,moving_avg_col_index] > df2.iloc[i,moving_avg_long_col_index]):\n",
    "        df2.iloc[i,action_col_index] = 'Buy'\n",
    "    elif (df2.iloc[i-1,moving_avg_col_index] > df2.iloc[i-1,moving_avg_long_col_index]) & (df2.iloc[i,moving_avg_col_index] < df2.iloc[i,moving_avg_long_col_index]):\n",
    "        df2.iloc[i,action_col_index] = 'Sell'\n",
    "    else:\n",
    "        df2.iloc[i,action_col_index] = ''\n"
   ]
  },
  {
   "cell_type": "code",
   "execution_count": 998,
   "id": "4cfaf032-730c-43ed-8245-068a2b46de61",
   "metadata": {},
   "outputs": [
    {
     "name": "stdout",
     "output_type": "stream",
     "text": [
      "First occurence of BUY order: 2021-07-29 00:00:00\n",
      "First occurence of SELL order: 2021-07-29 00:00:00\n",
      "No change\n",
      "----------\n",
      "Last occurence of BUY order: None\n",
      "Last occurence of SELL order: None\n"
     ]
    },
    {
     "ename": "TypeError",
     "evalue": "'>' not supported between instances of 'NoneType' and 'NoneType'",
     "output_type": "error",
     "traceback": [
      "\u001b[0;31m---------------------------------------------------------------------------\u001b[0m",
      "\u001b[0;31mTypeError\u001b[0m                                 Traceback (most recent call last)",
      "\u001b[0;32m/var/folders/h3/7c8b_xn17plccz53l3pcs8pw0000gp/T/ipykernel_15841/1639854962.py\u001b[0m in \u001b[0;36m<module>\u001b[0;34m\u001b[0m\n\u001b[1;32m     19\u001b[0m \u001b[0;34m\u001b[0m\u001b[0m\n\u001b[1;32m     20\u001b[0m \u001b[0;31m# set last row as 'Sell' if the end price of the period is still above the moving average price\u001b[0m\u001b[0;34m\u001b[0m\u001b[0;34m\u001b[0m\u001b[0;34m\u001b[0m\u001b[0m\n\u001b[0;32m---> 21\u001b[0;31m \u001b[0;32mif\u001b[0m \u001b[0mdf2\u001b[0m\u001b[0;34m[\u001b[0m\u001b[0;34m'action'\u001b[0m\u001b[0;34m]\u001b[0m\u001b[0;34m.\u001b[0m\u001b[0mwhere\u001b[0m\u001b[0;34m(\u001b[0m\u001b[0mdf2\u001b[0m\u001b[0;34m[\u001b[0m\u001b[0;34m'action'\u001b[0m\u001b[0;34m]\u001b[0m \u001b[0;34m==\u001b[0m \u001b[0;34m'Buy'\u001b[0m\u001b[0;34m)\u001b[0m\u001b[0;34m.\u001b[0m\u001b[0mlast_valid_index\u001b[0m\u001b[0;34m(\u001b[0m\u001b[0;34m)\u001b[0m \u001b[0;34m>\u001b[0m \u001b[0mdf2\u001b[0m\u001b[0;34m[\u001b[0m\u001b[0;34m'action'\u001b[0m\u001b[0;34m]\u001b[0m\u001b[0;34m.\u001b[0m\u001b[0mwhere\u001b[0m\u001b[0;34m(\u001b[0m\u001b[0mdf2\u001b[0m\u001b[0;34m[\u001b[0m\u001b[0;34m'action'\u001b[0m\u001b[0;34m]\u001b[0m \u001b[0;34m==\u001b[0m \u001b[0;34m'Sell'\u001b[0m\u001b[0;34m)\u001b[0m\u001b[0;34m.\u001b[0m\u001b[0mlast_valid_index\u001b[0m\u001b[0;34m(\u001b[0m\u001b[0;34m)\u001b[0m\u001b[0;34m:\u001b[0m\u001b[0;34m\u001b[0m\u001b[0;34m\u001b[0m\u001b[0m\n\u001b[0m\u001b[1;32m     22\u001b[0m     \u001b[0mdf2\u001b[0m\u001b[0;34m.\u001b[0m\u001b[0miloc\u001b[0m\u001b[0;34m[\u001b[0m\u001b[0mlen\u001b[0m\u001b[0;34m(\u001b[0m\u001b[0mdf2\u001b[0m\u001b[0;34m)\u001b[0m\u001b[0;34m-\u001b[0m\u001b[0;36m1\u001b[0m\u001b[0;34m,\u001b[0m\u001b[0maction_col_index\u001b[0m\u001b[0;34m]\u001b[0m \u001b[0;34m=\u001b[0m \u001b[0;34m'Sell'\u001b[0m\u001b[0;34m\u001b[0m\u001b[0;34m\u001b[0m\u001b[0m\n\u001b[1;32m     23\u001b[0m     \u001b[0mprint\u001b[0m\u001b[0;34m(\u001b[0m\u001b[0;34m\"Last row set to SELL\"\u001b[0m\u001b[0;34m)\u001b[0m\u001b[0;34m\u001b[0m\u001b[0;34m\u001b[0m\u001b[0m\n",
      "\u001b[0;31mTypeError\u001b[0m: '>' not supported between instances of 'NoneType' and 'NoneType'"
     ]
    }
   ],
   "source": [
    "# HANDLING EXCEPTIONS\n",
    "# printing the first instances of the BUY and SELL actions\n",
    "print(f\"First occurence of BUY order: {df2['action'].eq('Buy').idxmax()}\")\n",
    "print(f\"First occurence of SELL order: {df2['action'].eq('Sell').idxmax()}\")\n",
    "\n",
    "# set first row as 'Buy' if the start price of the period is already above the moving average price\n",
    "if df2['action'].eq('Buy').idxmax() > df2['action'].eq('Sell').idxmax():\n",
    "    df2.iloc[0,action_col_index] = 'Buy'\n",
    "    print(\"First row set to BUY\")\n",
    "else:\n",
    "    df2.iloc[0,action_col_index] = df2.iloc[0,action_col_index]\n",
    "    print(\"No change\")\n",
    "\n",
    "print(\"-\"*10)\n",
    "\n",
    "# printing the last instances of the BUY and SELL actions\n",
    "print(f\"Last occurence of BUY order: {df2['action'].where(df2['action'] == 'Buy').last_valid_index()}\")\n",
    "print(f\"Last occurence of SELL order: {df2['action'].where(df2['action'] == 'Sell').last_valid_index()}\")\n",
    "\n",
    "# set last row as 'Sell' if the end price of the period is still above the moving average price\n",
    "if df2['action'].where(df2['action'] == 'Buy').last_valid_index() > df2['action'].where(df2['action'] == 'Sell').last_valid_index():\n",
    "    df2.iloc[len(df2)-1,action_col_index] = 'Sell'\n",
    "    print(\"Last row set to SELL\")\n",
    "else:\n",
    "    df2.iloc[len(df2)-1,action_col_index] = df2.iloc[len(df2)-1,action_col_index]\n",
    "    print(\"No change\")\n",
    "    \n",
    "print(\"-\"*10)"
   ]
  },
  {
   "cell_type": "code",
   "execution_count": null,
   "id": "bd622b31-bc55-47be-807d-10eb1d9e4a36",
   "metadata": {},
   "outputs": [],
   "source": [
    "# filtering only days with actions\n",
    "df_action_2 = df2.loc[df2['action'] != '', ['close', 'action']]\n",
    "df_action_2.head(10)"
   ]
  },
  {
   "cell_type": "markdown",
   "id": "ef21fe8b-f272-42b7-86bf-2ffc1f316372",
   "metadata": {},
   "source": [
    "### Replicating step 5 to the new strategy"
   ]
  },
  {
   "cell_type": "code",
   "execution_count": null,
   "id": "0220e410-eb9b-48d4-ba26-e5e4aface2ab",
   "metadata": {},
   "outputs": [],
   "source": [
    "# create a new data frame to summarize trades in a row format\n",
    "df_pnl_2 = df_action_2.loc[df_action_2['action'] == 'Buy', ['close']]\n",
    "\n",
    "# rename column to buy_px\n",
    "df_pnl_2.rename(columns={'close':'buy_px'}, inplace=True)\n",
    "\n",
    "# insert a new column from a list of the SELL prices\n",
    "df_pnl_2['sell_px'] = df_action_2.loc[df_action_2['action'] == 'Sell', ['close']]['close'].tolist()\n",
    "\n",
    "# insert a new column for the trade dates of the SELL actions\n",
    "df_pnl_2['sold_date'] = df_action_2.loc[df_action_2['action'] == 'Sell', ['close']].index.tolist()\n",
    "\n",
    "# create column that shows the difference in SELL price and BUY price\n",
    "df_pnl_2['pnl'] = df_pnl_2['sell_px'] - df_pnl_2['buy_px']\n",
    "\n",
    "# convert that into percentage to get return per trade\n",
    "df_pnl_2['return_pct'] = 100*df_pnl_2['pnl']/df_pnl_2['buy_px']\n",
    "\n",
    "# calculate cumulative return (in %) using cumprod() function\n",
    "df_pnl_2['sell_over_buy'] = df_pnl_2['sell_px']/df_pnl_2['buy_px']\n",
    "df_pnl_2['cumulative_return'] = (df_pnl_2['sell_over_buy'].cumprod()-1)*100 # in percentage\n",
    "\n",
    "df_pnl_2"
   ]
  },
  {
   "cell_type": "code",
   "execution_count": null,
   "id": "301bc20d-8659-42ad-a33c-3d03f588edb9",
   "metadata": {},
   "outputs": [],
   "source": [
    "print(f\"Total number of trades: {len(df_pnl_2)}\")"
   ]
  },
  {
   "cell_type": "markdown",
   "id": "132318df-e7e5-494c-8628-0761c8f84ae2",
   "metadata": {},
   "source": [
    "### Result of the new strategy"
   ]
  },
  {
   "cell_type": "code",
   "execution_count": null,
   "id": "6a45e96b-c7b9-4d1b-85c0-8317059135da",
   "metadata": {},
   "outputs": [],
   "source": [
    "print(\"-\"*10)\n",
    "print(f\"Average stock price BOUGHT: ${df_pnl_2['buy_px'].mean():.2f}\")\n",
    "print(f\"Average stock price SOLD: ${df_pnl_2['sell_px'].mean():.2f}\")\n",
    "print(\"-\"*10)\n",
    "print(f\"Total cumulative return of new strategy: {(df_pnl_2['cumulative_return'][len(df_pnl_2)-1]):.2f}%\")\n",
    "print(f\"Total cumulative return of previous strategy: {(df_pnl['cumulative_return'][len(df_pnl)-1]):.2f}%\")\n",
    "print(f\"Difference: {(df_pnl_2['cumulative_return'][len(df_pnl_2)-1])-(df_pnl['cumulative_return'][len(df_pnl)-1]):.2f}%\")"
   ]
  },
  {
   "cell_type": "markdown",
   "id": "0e120b9c-c386-4d96-a8ac-485015c354b4",
   "metadata": {},
   "source": [
    "### Plotting the cumulative returns of the two strategies"
   ]
  },
  {
   "cell_type": "code",
   "execution_count": null,
   "id": "388d3339-a0cd-4711-a5a3-5b9a1a2b98d1",
   "metadata": {},
   "outputs": [],
   "source": [
    "# merging the two pnl tables\n",
    "df_compare = pd.merge(df_pnl,df_pnl_2, how='outer', left_index=True, right_index=True)\n",
    "df_compare.head()"
   ]
  },
  {
   "cell_type": "code",
   "execution_count": null,
   "id": "4cdfab68-7740-48e0-a558-8c5ec1fb0851",
   "metadata": {},
   "outputs": [],
   "source": [
    "# dropping non-essential columns\n",
    "df_compare.drop(columns=['buy_px_x', 'sell_px_x', 'sold_date_x', 'pnl_x', 'return_pct_x', 'sell_over_buy_x', 'buy_px_y', 'sell_px_y', 'sold_date_y', 'pnl_y', 'return_pct_y', 'sell_over_buy_y'], inplace=True)\n",
    "\n",
    "# renaming column to \"close\"\n",
    "df_compare.rename(columns={'cumulative_return_x':'strategy_1', 'cumulative_return_y':'strategy_2'}, inplace=True)\n",
    "\n",
    "df_compare.head()"
   ]
  },
  {
   "cell_type": "code",
   "execution_count": null,
   "id": "2fa33a49-6efd-4be5-b59e-7b024f2a0d67",
   "metadata": {},
   "outputs": [],
   "source": [
    "# creating a new data frame with complete dates from first day of trade to last day of trade in order to create a step diagram\n",
    "full_date = pd.DataFrame({'date': pd.date_range(df_compare.index.min(), df_compare.index.max(), freq='D')})\n",
    "full_date = full_date.set_index('date')\n",
    "full_date = pd.merge(full_date, df_compare, how='left', left_index=True, right_index=True).fillna(method='ffill')\n",
    "\n",
    "full_date.plot(figsize=(15,8))\n",
    "plt.ylabel('Return percentage (%)', fontsize=18)\n",
    "plt.xlabel('')\n",
    "plt.title('Cumulative PNL Return Comparison', fontsize=20, pad=20)\n",
    "\n",
    "plt.show()"
   ]
  },
  {
   "cell_type": "code",
   "execution_count": null,
   "id": "24bec557-53bc-4fd5-8247-c199b43094f8",
   "metadata": {},
   "outputs": [],
   "source": []
  },
  {
   "cell_type": "code",
   "execution_count": null,
   "id": "7770dec0-a80f-4777-bf1b-4c9cc96d040a",
   "metadata": {},
   "outputs": [],
   "source": []
  },
  {
   "cell_type": "code",
   "execution_count": null,
   "id": "7de911a1-1642-4dc0-8552-dd5546838c83",
   "metadata": {},
   "outputs": [],
   "source": []
  },
  {
   "cell_type": "code",
   "execution_count": null,
   "id": "443dd447-6763-453c-be12-3e6756094750",
   "metadata": {},
   "outputs": [],
   "source": []
  },
  {
   "cell_type": "code",
   "execution_count": null,
   "id": "ad369a77-78ca-4da1-a03a-7e6aef4124dd",
   "metadata": {},
   "outputs": [],
   "source": []
  },
  {
   "cell_type": "code",
   "execution_count": null,
   "id": "432e2eb3-f338-4f00-a125-58ddb711e124",
   "metadata": {},
   "outputs": [],
   "source": []
  },
  {
   "cell_type": "code",
   "execution_count": null,
   "id": "c6713bb2-8796-4be4-bbfe-36b4e5cc5a37",
   "metadata": {},
   "outputs": [],
   "source": []
  },
  {
   "cell_type": "code",
   "execution_count": null,
   "id": "036b217a-ab7e-45a6-88f8-9c6af5fb357e",
   "metadata": {},
   "outputs": [],
   "source": []
  },
  {
   "cell_type": "code",
   "execution_count": null,
   "id": "cfef995c-4886-413b-8431-9f360e1580b6",
   "metadata": {},
   "outputs": [],
   "source": []
  },
  {
   "cell_type": "code",
   "execution_count": null,
   "id": "26acad51-96a4-4974-88ff-1df6110956cd",
   "metadata": {},
   "outputs": [],
   "source": []
  },
  {
   "cell_type": "code",
   "execution_count": null,
   "id": "8ba6ac33-c3f7-471f-ad26-3fa1c7763961",
   "metadata": {},
   "outputs": [],
   "source": []
  },
  {
   "cell_type": "code",
   "execution_count": null,
   "id": "c4c8a87f-fa93-45aa-a22e-c0fb3a8833f3",
   "metadata": {},
   "outputs": [],
   "source": []
  },
  {
   "cell_type": "code",
   "execution_count": null,
   "id": "beae34a3-0056-4013-aa0a-9d786f1edd23",
   "metadata": {},
   "outputs": [],
   "source": []
  },
  {
   "cell_type": "code",
   "execution_count": null,
   "id": "1958afc1-ec99-4eac-98e5-8874e196d4eb",
   "metadata": {},
   "outputs": [],
   "source": []
  },
  {
   "cell_type": "code",
   "execution_count": null,
   "id": "9e0e78df-d592-45d8-bf56-2990f394a5ba",
   "metadata": {},
   "outputs": [],
   "source": []
  },
  {
   "cell_type": "code",
   "execution_count": null,
   "id": "74e4a348-f22b-4453-a54f-fba98959e6e4",
   "metadata": {},
   "outputs": [],
   "source": []
  },
  {
   "cell_type": "code",
   "execution_count": null,
   "id": "1a6a087e-4a09-4344-ae69-8e8b19e2f743",
   "metadata": {},
   "outputs": [],
   "source": []
  },
  {
   "cell_type": "code",
   "execution_count": null,
   "id": "b3414ed7-4f3f-4f2c-9f72-ec6d2fc85000",
   "metadata": {},
   "outputs": [],
   "source": []
  },
  {
   "cell_type": "code",
   "execution_count": null,
   "id": "77748283-245d-4686-b359-c25045dc20ca",
   "metadata": {},
   "outputs": [],
   "source": []
  },
  {
   "cell_type": "code",
   "execution_count": null,
   "id": "764b6662-41d5-4639-af91-203e39168733",
   "metadata": {},
   "outputs": [],
   "source": []
  },
  {
   "cell_type": "code",
   "execution_count": null,
   "id": "ebebe3d9-9dc8-4714-806c-b848862d832c",
   "metadata": {},
   "outputs": [],
   "source": []
  },
  {
   "cell_type": "code",
   "execution_count": null,
   "id": "cafa80ca-528c-4793-8336-003c703c7d1e",
   "metadata": {},
   "outputs": [],
   "source": []
  },
  {
   "cell_type": "code",
   "execution_count": null,
   "id": "f11388b4-f507-40fa-9c05-01a0badd4d71",
   "metadata": {},
   "outputs": [],
   "source": []
  },
  {
   "cell_type": "code",
   "execution_count": null,
   "id": "38abf01a-0b05-4dea-aec5-13c0fa66e991",
   "metadata": {},
   "outputs": [],
   "source": []
  },
  {
   "cell_type": "code",
   "execution_count": null,
   "id": "778c1890-3ec5-43e2-85cb-36e2b0877235",
   "metadata": {},
   "outputs": [],
   "source": []
  },
  {
   "cell_type": "code",
   "execution_count": null,
   "id": "7d46682f-36f7-420a-b0e6-ca23f4021bc0",
   "metadata": {},
   "outputs": [],
   "source": []
  },
  {
   "cell_type": "code",
   "execution_count": null,
   "id": "bbd0eb82-0ab7-4938-bfe4-5b8630dbf20e",
   "metadata": {},
   "outputs": [],
   "source": []
  },
  {
   "cell_type": "code",
   "execution_count": null,
   "id": "0e12ee50-f5ed-4e1b-a983-9d28c1aa7d01",
   "metadata": {},
   "outputs": [],
   "source": []
  },
  {
   "cell_type": "code",
   "execution_count": null,
   "id": "ee93011c-cf2e-4a48-9156-86204c6d2713",
   "metadata": {},
   "outputs": [],
   "source": []
  },
  {
   "cell_type": "code",
   "execution_count": null,
   "id": "ef4dd23e-fe55-45d3-8847-f4cb282c685b",
   "metadata": {},
   "outputs": [],
   "source": []
  },
  {
   "cell_type": "code",
   "execution_count": null,
   "id": "5e7c0bdf-9ea7-4ed3-968b-78e559823a60",
   "metadata": {},
   "outputs": [],
   "source": []
  },
  {
   "cell_type": "code",
   "execution_count": null,
   "id": "3d28a1cd-51ce-4851-9efd-6ebaa57ef8b0",
   "metadata": {},
   "outputs": [],
   "source": []
  },
  {
   "cell_type": "code",
   "execution_count": null,
   "id": "31320077-b0d8-4a75-926a-39bfa6eb8d2d",
   "metadata": {},
   "outputs": [],
   "source": []
  }
 ],
 "metadata": {
  "kernelspec": {
   "display_name": "Python 3 (ipykernel)",
   "language": "python",
   "name": "python3"
  },
  "language_info": {
   "codemirror_mode": {
    "name": "ipython",
    "version": 3
   },
   "file_extension": ".py",
   "mimetype": "text/x-python",
   "name": "python",
   "nbconvert_exporter": "python",
   "pygments_lexer": "ipython3",
   "version": "3.9.6"
  }
 },
 "nbformat": 4,
 "nbformat_minor": 5
}
